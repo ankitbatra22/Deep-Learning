{
  "nbformat": 4,
  "nbformat_minor": 0,
  "metadata": {
    "colab": {
      "name": "LogisticRegression",
      "provenance": [],
      "authorship_tag": "ABX9TyObZDf0OPkN0HCErbXmycJ/",
      "include_colab_link": true
    },
    "kernelspec": {
      "name": "python3",
      "display_name": "Python 3"
    },
    "language_info": {
      "name": "python"
    }
  },
  "cells": [
    {
      "cell_type": "markdown",
      "metadata": {
        "id": "view-in-github",
        "colab_type": "text"
      },
      "source": [
        "<a href=\"https://colab.research.google.com/github/ankitbatra22/Deep-Learning/blob/master/LogisticRegression.ipynb\" target=\"_parent\"><img src=\"https://colab.research.google.com/assets/colab-badge.svg\" alt=\"Open In Colab\"/></a>"
      ]
    },
    {
      "cell_type": "code",
      "metadata": {
        "id": "wnS14XvolyZW"
      },
      "source": [
        "import numpy as np\n",
        "import matplotlib.pyplot as plt\n",
        "import h5py\n",
        "import scipy\n",
        "from PIL import Image\n",
        "from scipy import ndimage\n",
        "#from lr_utils import load_dataset\n",
        "\n",
        "%matplotlib inline"
      ],
      "execution_count": 62,
      "outputs": []
    },
    {
      "cell_type": "code",
      "metadata": {
        "id": "sCo-h_Tom3cM"
      },
      "source": [
        "def load_dataset():\n",
        "    dataset = h5py.File('./train_catvnoncat.h5', \"r\")\n",
        "    trainX = np.array(dataset[\"train_set_x\"][:]) \n",
        "    trainY = np.array(dataset[\"train_set_y\"][:]) \n",
        "    test_dataset = h5py.File('./test_catvnoncat.h5', \"r\")\n",
        "    testX = np.array(test_dataset[\"test_set_x\"][:])\n",
        "    testY = np.array(test_dataset[\"test_set_y\"][:]) \n",
        "    classes = np.array(test_dataset[\"list_classes\"][:])\n",
        "    \n",
        "    trainY = trainY.reshape((1, trainY.shape[0]))\n",
        "    testY = testY.reshape((1, testY.shape[0]))\n",
        "    \n",
        "    return trainX, trainY, testX, testY, classes\n",
        "\n",
        "\n",
        "train_set_x_orig, train_set_y, test_set_x_orig, test_set_y, classes = load_dataset()"
      ],
      "execution_count": 63,
      "outputs": []
    },
    {
      "cell_type": "code",
      "metadata": {
        "colab": {
          "base_uri": "https://localhost:8080/",
          "height": 285
        },
        "id": "VgvM8STonFWW",
        "outputId": "8711380b-8b2f-4a67-c1b1-f35ceaeda49e"
      },
      "source": [
        "plt.imshow(train_set_x_orig[10])\n",
        "print(train_set_y[0][10])"
      ],
      "execution_count": 64,
      "outputs": [
        {
          "output_type": "stream",
          "text": [
            "0\n"
          ],
          "name": "stdout"
        },
        {
          "output_type": "display_data",
          "data": {
            "image/png": "[encoded data removed]",
            "text/plain": [
              "<Figure size 432x288 with 1 Axes>"
            ]
          },
          "metadata": {
            "tags": [],
            "needs_background": "light"
          }
        }
      ]
    },
    {
      "cell_type": "code",
      "metadata": {
        "id": "rhaf1l0mn_Gx"
      },
      "source": [
        "train_set_x_flatten = train_set_x_orig.reshape(train_set_x_orig.shape[0], -1).T\n",
        "test_set_x_flatten = test_set_x_orig.reshape(test_set_x_orig.shape[0], -1).T\n",
        "train_set_x = train_set_x_flatten/255\n",
        "test_set_x = test_set_x_flatten/255"
      ],
      "execution_count": 65,
      "outputs": []
    },
    {
      "cell_type": "code",
      "metadata": {
        "id": "3fmwhrPcopVi"
      },
      "source": [
        "def sigmoid(z):\n",
        "    s = 1/(1+np.exp(-z))\n",
        "    return s\n",
        "\n",
        "def initialize_with_zeros(dim):\n",
        "    w = np.zeros((dim, 1))\n",
        "    b = 0\n",
        "    \n",
        "    return w, b"
      ],
      "execution_count": 66,
      "outputs": []
    },
    {
      "cell_type": "code",
      "metadata": {
        "id": "p56zG-PhpFEt"
      },
      "source": [
        "###  Forward and Backward propagation ###\n",
        "def propagate(w, b, X, Y):\n",
        "    \"\"\"\n",
        "    w -> weights (px,px,3,1)\n",
        "    b -> bias\n",
        "    X -> image (px,px,3,1)\n",
        "    Y -> binary cat or not\n",
        "    \"\"\"\n",
        "    # this is m\n",
        "    numSamples = X.shape[1]\n",
        "    #activation\n",
        "    A = sigmoid(np.dot(w.T, X) + b)\n",
        "    #cost\n",
        "    cost = (- 1 / numSamples) * np.sum(Y * np.log(A) + (1 - Y) * (np.log(1 - A)))\n",
        "    \n",
        "    # backward prop\n",
        "    # dw = x * dz\n",
        "    dw = 1/numSamples*(np.dot(X, ((A-Y).T)))\n",
        "    # db = dz\n",
        "    db = 1/numSamples*(np.sum(A-Y))\n",
        "    \n",
        "    grads = {\"dw\": dw,\n",
        "             \"db\": db}\n",
        "    \n",
        "    return grads, cost"
      ],
      "execution_count": 67,
      "outputs": []
    },
    {
      "cell_type": "code",
      "metadata": {
        "id": "NQ0KhU38tb3u"
      },
      "source": [
        "def optimize(w, b, X, Y, iterations, lr, print_cost = False):\n",
        "\n",
        "    costs = []\n",
        "    \n",
        "    for i in range(iterations):\n",
        "        grads, cost = propagate(w, b, X, Y)\n",
        "        dw = grads[\"dw\"]\n",
        "        db = grads[\"db\"]\n",
        "\n",
        "        #update rule!!\n",
        "        w = w - lr * dw\n",
        "        b = b - lr * db\n",
        "\n",
        "\n",
        "        if i % 100 == 0:\n",
        "            costs.append(cost)\n",
        "    \n",
        "    params = {\"w\": w,\n",
        "              \"b\": b}\n",
        "    \n",
        "    grads = {\"dw\": dw,\n",
        "             \"db\": db}\n",
        "    \n",
        "    return params, grads, costs"
      ],
      "execution_count": 68,
      "outputs": []
    },
    {
      "cell_type": "code",
      "metadata": {
        "id": "KuM-GSmjt0bF"
      },
      "source": [
        "def predict(w, b, X):\n",
        "    \n",
        "    m = X.shape[1]\n",
        "    Y_prediction = np.zeros((1, m))\n",
        "    w = w.reshape(X.shape[0], 1)\n",
        "    A = sigmoid(np.dot(w.T, X) + b)\n",
        "    \n",
        "    for i in range(A.shape[1]):\n",
        "        Y_prediction[0, i] = 1 if A[0, i] > 0.5 else 0\n",
        "    \n",
        "    \n",
        "    return Y_prediction"
      ],
      "execution_count": 69,
      "outputs": []
    },
    {
      "cell_type": "code",
      "metadata": {
        "id": "yu5KvjaduFUi"
      },
      "source": [
        "def model(X_train, Y_train, X_test, Y_test, num_iterations=2000, learning_rate=0.5, print_cost=False):\n",
        "\n",
        "    w, b = initialize_with_zeros(X_train.shape[0])\n",
        "\n",
        "    # grad descent\n",
        "    parameters, grads, costs = optimize(w, b, X_train, Y_train, num_iterations, learning_rate, print_cost)\n",
        "    w = parameters[\"w\"]\n",
        "    b = parameters[\"b\"]\n",
        "    \n",
        "    Y_prediction_test = predict(w, b, X_test)\n",
        "    Y_prediction_train = predict(w, b, X_train)\n",
        "\n",
        "    print(\"train accuracy: \", (100 - np.mean(np.abs(Y_prediction_train - Y_train)) * 100))\n",
        "    print(\"test accuracy: \", (100 - np.mean(np.abs(Y_prediction_test - Y_test)) * 100))\n",
        "\n",
        "    \n",
        "    d = {\"costs\": costs,\n",
        "         \"Y_prediction_test\": Y_prediction_test, \n",
        "         \"Y_prediction_train\" : Y_prediction_train, \n",
        "         \"w\" : w, \n",
        "         \"b\" : b,\n",
        "         \"learning_rate\" : learning_rate,\n",
        "         \"num_iterations\": num_iterations}\n",
        "    \n",
        "    return d"
      ],
      "execution_count": 70,
      "outputs": []
    },
    {
      "cell_type": "code",
      "metadata": {
        "colab": {
          "base_uri": "https://localhost:8080/"
        },
        "id": "AiOSMPuSuXLI",
        "outputId": "ef659a81-a5ec-4362-e98a-d0e8c8bc2e34"
      },
      "source": [
        "d = model(train_set_x, train_set_y, test_set_x, test_set_y, num_iterations = 2000, learning_rate = 0.005, print_cost = True)"
      ],
      "execution_count": 71,
      "outputs": [
        {
          "output_type": "stream",
          "text": [
            "train accuracy:  99.04306220095694\n",
            "test accuracy:  70.0\n"
          ],
          "name": "stdout"
        }
      ]
    },
    {
      "cell_type": "code",
      "metadata": {
        "colab": {
          "base_uri": "https://localhost:8080/",
          "height": 279
        },
        "id": "UTZFca0juXTX",
        "outputId": "a8c2a16c-ad1f-4e8b-83eb-530355b0bcd7"
      },
      "source": [
        "costs = np.squeeze(d['costs'])\n",
        "plt.plot(costs)\n",
        "plt.ylabel('cost')\n",
        "plt.xlabel('iterations')\n",
        "plt.show()"
      ],
      "execution_count": 74,
      "outputs": [
        {
          "output_type": "display_data",
          "data": {
            "image/png": "[encoded data removed]",
            "text/plain": [
              "<Figure size 432x288 with 1 Axes>"
            ]
          },
          "metadata": {
            "tags": [],
            "needs_background": "light"
          }
        }
      ]
    }
  ]
}